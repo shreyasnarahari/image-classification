{
 "cells": [
  {
   "cell_type": "markdown",
   "metadata": {
    "collapsed": true,
    "deletable": true,
    "editable": true
   },
   "source": [
    "# Image Classification\n",
    "In this project, you'll classify images from the [CIFAR-10 dataset](https://www.cs.toronto.edu/~kriz/cifar.html).  The dataset consists of airplanes, dogs, cats, and other objects. You'll preprocess the images, then train a convolutional neural network on all the samples. The images need to be normalized and the labels need to be one-hot encoded.  You'll get to apply what you learned and build a convolutional, max pooling, dropout, and fully connected layers.  At the end, you'll get to see your neural network's predictions on the sample images.\n",
    "## Get the Data\n",
    "Run the following cell to download the [CIFAR-10 dataset for python](https://www.cs.toronto.edu/~kriz/cifar-10-python.tar.gz)."
   ]
  },
  {
   "cell_type": "code",
   "execution_count": 1,
   "metadata": {
    "collapsed": false,
    "deletable": true,
    "editable": true
   },
   "outputs": [
    {
     "name": "stdout",
     "output_type": "stream",
     "text": [
      "All files found!\n"
     ]
    }
   ],
   "source": [
    "\"\"\"\n",
    "DON'T MODIFY ANYTHING IN THIS CELL THAT IS BELOW THIS LINE\n",
    "\"\"\"\n",
    "from urllib.request import urlretrieve\n",
    "from os.path import isfile, isdir\n",
    "from tqdm import tqdm\n",
    "import problem_unittests as tests\n",
    "import tarfile\n",
    "\n",
    "cifar10_dataset_folder_path = 'cifar-10-batches-py'\n",
    "\n",
    "class DLProgress(tqdm):\n",
    "    last_block = 0\n",
    "\n",
    "    def hook(self, block_num=1, block_size=1, total_size=None):\n",
    "        self.total = total_size\n",
    "        self.update((block_num - self.last_block) * block_size)\n",
    "        self.last_block = block_num\n",
    "\n",
    "if not isfile('cifar-10-python.tar.gz'):\n",
    "    with DLProgress(unit='B', unit_scale=True, miniters=1, desc='CIFAR-10 Dataset') as pbar:\n",
    "        urlretrieve(\n",
    "            'https://www.cs.toronto.edu/~kriz/cifar-10-python.tar.gz',\n",
    "            'cifar-10-python.tar.gz',\n",
    "            pbar.hook)\n",
    "\n",
    "if not isdir(cifar10_dataset_folder_path):\n",
    "    with tarfile.open('cifar-10-python.tar.gz') as tar:\n",
    "        tar.extractall()\n",
    "        tar.close()\n",
    "\n",
    "\n",
    "tests.test_folder_path(cifar10_dataset_folder_path)"
   ]
  },
  {
   "cell_type": "markdown",
   "metadata": {
    "deletable": true,
    "editable": true
   },
   "source": [
    "## Explore the Data\n",
    "The dataset is broken into batches to prevent your machine from running out of memory.  The CIFAR-10 dataset consists of 5 batches, named `data_batch_1`, `data_batch_2`, etc.. Each batch contains the labels and images that are one of the following:\n",
    "* airplane\n",
    "* automobile\n",
    "* bird\n",
    "* cat\n",
    "* deer\n",
    "* dog\n",
    "* frog\n",
    "* horse\n",
    "* ship\n",
    "* truck\n",
    "\n",
    "Understanding a dataset is part of making predictions on the data.  Play around with the code cell below by changing the `batch_id` and `sample_id`. The `batch_id` is the id for a batch (1-5). The `sample_id` is the id for a image and label pair in the batch.\n",
    "\n",
    "Ask yourself \"What are all possible labels?\", \"What is the range of values for the image data?\", \"Are the labels in order or random?\".  Answers to questions like these will help you preprocess the data and end up with better predictions."
   ]
  },
  {
   "cell_type": "code",
   "execution_count": 2,
   "metadata": {
    "collapsed": false,
    "deletable": true,
    "editable": true
   },
   "outputs": [
    {
     "name": "stdout",
     "output_type": "stream",
     "text": [
      "\n",
      "Stats of batch 5:\n",
      "Samples: 10000\n",
      "Label Counts: {0: 1014, 1: 1014, 2: 952, 3: 1016, 4: 997, 5: 1025, 6: 980, 7: 977, 8: 1003, 9: 1022}\n",
      "First 20 Labels: [1, 8, 5, 1, 5, 7, 4, 3, 8, 2, 7, 2, 0, 1, 5, 9, 6, 2, 0, 8]\n",
      "\n",
      "Example of Image 52:\n",
      "Image - Min Value: 0 Max Value: 255\n",
      "Image - Shape: (32, 32, 3)\n",
      "Label - Label Id: 9 Name: truck\n"
     ]
    },
    {
     "data": {
      "image/png": "[encoded data removed]",
      "text/plain": [
       "<matplotlib.figure.Figure at 0x7fa277249c88>"
      ]
     },
     "metadata": {
      "image/png": {
       "height": 250,
       "width": 253
      }
     },
     "output_type": "display_data"
    }
   ],
   "source": [
    "%matplotlib inline\n",
    "%config InlineBackend.figure_format = 'retina'\n",
    "\n",
    "import helper\n",
    "import numpy as np\n",
    "\n",
    "# Explore the dataset\n",
    "batch_id = 5\n",
    "sample_id = 52\n",
    "helper.display_stats(cifar10_dataset_folder_path, batch_id, sample_id)"
   ]
  },
  {
   "cell_type": "markdown",
   "metadata": {
    "deletable": true,
    "editable": true
   },
   "source": [
    "## Implement Preprocess Functions\n",
    "### Normalize\n",
    "In the cell below, implement the `normalize` function to take in image data, `x`, and return it as a normalized Numpy array. The values should be in the range of 0 to 1, inclusive.  The return object should be the same shape as `x`."
   ]
  },
  {
   "cell_type": "code",
   "execution_count": 3,
   "metadata": {
    "collapsed": false,
    "deletable": true,
    "editable": true
   },
   "outputs": [
    {
     "name": "stdout",
     "output_type": "stream",
     "text": [
      "Tests Passed\n"
     ]
    }
   ],
   "source": [
    "def normalize(x):\n",
    "    \"\"\"\n",
    "    Normalize a list of sample image data in the range of 0 to 1\n",
    "    : x: List of image data.  The image shape is (32, 32, 3)\n",
    "    : return: Numpy array of normalize data\n",
    "    \"\"\"\n",
    "    # TODO: Implement Function\n",
    "    x = np.true_divide(x,255)\n",
    "    #print(x)\n",
    "    return x\n",
    "\n",
    "\n",
    "\"\"\"\n",
    "DON'T MODIFY ANYTHING IN THIS CELL THAT IS BELOW THIS LINE\n",
    "\"\"\"\n",
    "tests.test_normalize(normalize)"
   ]
  },
  {
   "cell_type": "markdown",
   "metadata": {
    "deletable": true,
    "editable": true
   },
   "source": [
    "### One-hot encode\n",
    "Just like the previous code cell, you'll be implementing a function for preprocessing.  This time, you'll implement the `one_hot_encode` function. The input, `x`, are a list of labels.  Implement the function to return the list of labels as One-Hot encoded Numpy array.  The possible values for labels are 0 to 9. The one-hot encoding function should return the same encoding for each value between each call to `one_hot_encode`.  Make sure to save the map of encodings outside the function.\n",
    "\n",
    "Hint: Don't reinvent the wheel."
   ]
  },
  {
   "cell_type": "code",
   "execution_count": 4,
   "metadata": {
    "collapsed": false,
    "deletable": true,
    "editable": true
   },
   "outputs": [
    {
     "name": "stdout",
     "output_type": "stream",
     "text": [
      "Tests Passed\n"
     ]
    }
   ],
   "source": [
    "from sklearn.preprocessing import OneHotEncoder\n",
    "def one_hot_encode(x):\n",
    "    \"\"\"\n",
    "    One hot encode a list of sample labels. Return a one-hot encoded vector for each label.\n",
    "    : x: List of sample Labels\n",
    "    : return: Numpy array of one-hot encoded labels\n",
    "    \"\"\"\n",
    "    # TODO: Implement Function\n",
    "    return np.eye(10)[x]\n",
    "\n",
    "\n",
    "\"\"\"\n",
    "DON'T MODIFY ANYTHING IN THIS CELL THAT IS BELOW THIS LINE\n",
    "\"\"\"\n",
    "tests.test_one_hot_encode(one_hot_encode)"
   ]
  },
  {
   "cell_type": "markdown",
   "metadata": {
    "deletable": true,
    "editable": true
   },
   "source": [
    "### Randomize Data\n",
    "As you saw from exploring the data above, the order of the samples are randomized.  It doesn't hurt to randomize it again, but you don't need to for this dataset."
   ]
  },
  {
   "cell_type": "markdown",
   "metadata": {
    "deletable": true,
    "editable": true
   },
   "source": [
    "## Preprocess all the data and save it\n",
    "Running the code cell below will preprocess all the CIFAR-10 data and save it to file. The code below also uses 10% of the training data for validation."
   ]
  },
  {
   "cell_type": "code",
   "execution_count": 5,
   "metadata": {
    "collapsed": false,
    "deletable": true,
    "editable": true
   },
   "outputs": [],
   "source": [
    "\"\"\"\n",
    "DON'T MODIFY ANYTHING IN THIS CELL\n",
    "\"\"\"\n",
    "# Preprocess Training, Validation, and Testing Data\n",
    "helper.preprocess_and_save_data(cifar10_dataset_folder_path, normalize, one_hot_encode)"
   ]
  },
  {
   "cell_type": "markdown",
   "metadata": {
    "deletable": true,
    "editable": true
   },
   "source": [
    "# Check Point\n",
    "This is your first checkpoint.  If you ever decide to come back to this notebook or have to restart the notebook, you can start from here.  The preprocessed data has been saved to disk."
   ]
  },
  {
   "cell_type": "code",
   "execution_count": 6,
   "metadata": {
    "collapsed": true,
    "deletable": true,
    "editable": true
   },
   "outputs": [],
   "source": [
    "\"\"\"\n",
    "DON'T MODIFY ANYTHING IN THIS CELL\n",
    "\"\"\"\n",
    "import pickle\n",
    "import problem_unittests as tests\n",
    "import helper\n",
    "\n",
    "# Load the Preprocessed Validation data\n",
    "valid_features, valid_labels = pickle.load(open('preprocess_validation.p', mode='rb'))"
   ]
  },
  {
   "cell_type": "markdown",
   "metadata": {
    "deletable": true,
    "editable": true
   },
   "source": [
    "## Build the network\n",
    "For the neural network, you'll build each layer into a function.  Most of the code you've seen has been outside of functions. To test your code more thoroughly, we require that you put each layer in a function.  This allows us to give you better feedback and test for simple mistakes using our unittests before you submit your project.\n",
    "\n",
    ">**Note:** If you're finding it hard to dedicate enough time for this course each week, we've provided a small shortcut to this part of the project. In the next couple of problems, you'll have the option to use classes from the [TensorFlow Layers](https://www.tensorflow.org/api_docs/python/tf/layers) or [TensorFlow Layers (contrib)](https://www.tensorflow.org/api_guides/python/contrib.layers) packages to build each layer, except the layers you build in the \"Convolutional and Max Pooling Layer\" section.  TF Layers is similar to Keras's and TFLearn's abstraction to layers, so it's easy to pickup.\n",
    "\n",
    ">However, if you would like to get the most out of this course, try to solve all the problems _without_ using anything from the TF Layers packages. You **can** still use classes from other packages that happen to have the same name as ones you find in TF Layers! For example, instead of using the TF Layers version of the `conv2d` class, [tf.layers.conv2d](https://www.tensorflow.org/api_docs/python/tf/layers/conv2d), you would want to use the TF Neural Network version of `conv2d`, [tf.nn.conv2d](https://www.tensorflow.org/api_docs/python/tf/nn/conv2d). \n",
    "\n",
    "Let's begin!\n",
    "\n",
    "### Input\n",
    "The neural network needs to read the image data, one-hot encoded labels, and dropout keep probability. Implement the following functions\n",
    "* Implement `neural_net_image_input`\n",
    " * Return a [TF Placeholder](https://www.tensorflow.org/api_docs/python/tf/placeholder)\n",
    " * Set the shape using `image_shape` with batch size set to `None`.\n",
    " * Name the TensorFlow placeholder \"x\" using the TensorFlow `name` parameter in the [TF Placeholder](https://www.tensorflow.org/api_docs/python/tf/placeholder).\n",
    "* Implement `neural_net_label_input`\n",
    " * Return a [TF Placeholder](https://www.tensorflow.org/api_docs/python/tf/placeholder)\n",
    " * Set the shape using `n_classes` with batch size set to `None`.\n",
    " * Name the TensorFlow placeholder \"y\" using the TensorFlow `name` parameter in the [TF Placeholder](https://www.tensorflow.org/api_docs/python/tf/placeholder).\n",
    "* Implement `neural_net_keep_prob_input`\n",
    " * Return a [TF Placeholder](https://www.tensorflow.org/api_docs/python/tf/placeholder) for dropout keep probability.\n",
    " * Name the TensorFlow placeholder \"keep_prob\" using the TensorFlow `name` parameter in the [TF Placeholder](https://www.tensorflow.org/api_docs/python/tf/placeholder).\n",
    "\n",
    "These names will be used at the end of the project to load your saved model.\n",
    "\n",
    "Note: `None` for shapes in TensorFlow allow for a dynamic size."
   ]
  },
  {
   "cell_type": "code",
   "execution_count": 7,
   "metadata": {
    "collapsed": false,
    "deletable": true,
    "editable": true
   },
   "outputs": [
    {
     "name": "stdout",
     "output_type": "stream",
     "text": [
      "Image Input Tests Passed.\n",
      "Label Input Tests Passed.\n",
      "Keep Prob Tests Passed.\n"
     ]
    }
   ],
   "source": [
    "import tensorflow as tf\n",
    "\n",
    "def neural_net_image_input(image_shape):\n",
    "    \"\"\"\n",
    "    Return a Tensor for a bach of image input\n",
    "    : image_shape: Shape of the images\n",
    "    : return: Tensor for image input.\n",
    "    \"\"\"\n",
    "    # TODO: Implement Function\n",
    "    return tf.placeholder(tf.float64, shape = [None,image_shape[0],image_shape[1],image_shape[2]], name = 'x')\n",
    "\n",
    "\n",
    "def neural_net_label_input(n_classes):\n",
    "    \"\"\"\n",
    "    Return a Tensor for a batch of label input\n",
    "    : n_classes: Number of classes\n",
    "    : return: Tensor for label input.\n",
    "    \"\"\"\n",
    "    # TODO: Implement Function\n",
    "    return tf.placeholder(tf.float64, shape = [None,n_classes], name = 'y')\n",
    "\n",
    "\n",
    "def neural_net_keep_prob_input():\n",
    "    \"\"\"\n",
    "    Return a Tensor for keep probability\n",
    "    : return: Tensor for keep probability.\n",
    "    \"\"\"\n",
    "    # TODO: Implement Function\n",
    "    return tf.placeholder(tf.float64, name = 'keep_prob')\n",
    "\n",
    "\n",
    "\"\"\"\n",
    "DON'T MODIFY ANYTHING IN THIS CELL THAT IS BELOW THIS LINE\n",
    "\"\"\"\n",
    "tf.reset_default_graph()\n",
    "tests.test_nn_image_inputs(neural_net_image_input)\n",
    "tests.test_nn_label_inputs(neural_net_label_input)\n",
    "tests.test_nn_keep_prob_inputs(neural_net_keep_prob_input)"
   ]
  },
  {
   "cell_type": "markdown",
   "metadata": {
    "deletable": true,
    "editable": true
   },
   "source": [
    "### Convolution and Max Pooling Layer\n",
    "Convolution layers have a lot of success with images. For this code cell, you should implement the function `conv2d_maxpool` to apply convolution then max pooling:\n",
    "* Create the weight and bias using `conv_ksize`, `conv_num_outputs` and the shape of `x_tensor`.\n",
    "* Apply a convolution to `x_tensor` using weight and `conv_strides`.\n",
    " * We recommend you use same padding, but you're welcome to use any padding.\n",
    "* Add bias\n",
    "* Add a nonlinear activation to the convolution.\n",
    "* Apply Max Pooling using `pool_ksize` and `pool_strides`.\n",
    " * We recommend you use same padding, but you're welcome to use any padding.\n",
    "\n",
    "**Note:** You **can't** use [TensorFlow Layers](https://www.tensorflow.org/api_docs/python/tf/layers) or [TensorFlow Layers (contrib)](https://www.tensorflow.org/api_guides/python/contrib.layers) for **this** layer, but you can still use TensorFlow's [Neural Network](https://www.tensorflow.org/api_docs/python/tf/nn) package. You may still use the shortcut option for all the **other** layers."
   ]
  },
  {
   "cell_type": "code",
   "execution_count": 8,
   "metadata": {
    "collapsed": false,
    "deletable": true,
    "editable": true
   },
   "outputs": [
    {
     "name": "stdout",
     "output_type": "stream",
     "text": [
      "Tests Passed\n"
     ]
    }
   ],
   "source": [
    "def conv2d_maxpool(x_tensor, conv_num_outputs, conv_ksize, conv_strides, pool_ksize, pool_strides):\n",
    "    \"\"\"\n",
    "    Apply convolution then max pooling to x_tensor\n",
    "    :param x_tensor: TensorFlow Tensor\n",
    "    :param conv_num_outputs: Number of outputs for the convolutional layer\n",
    "    :param conv_ksize: kernal size 2-D Tuple for the convolutional layer\n",
    "    :param conv_strides: Stride 2-D Tuple for convolution\n",
    "    :param pool_ksize: kernal size 2-D Tuple for pool\n",
    "    :param pool_strides: Stride 2-D Tuple for pool\n",
    "    : return: A tensor that represents convolution and max pooling of x_tensor\n",
    "    \"\"\"\n",
    "    # TODO: Implement Function\n",
    "    weights = tf.Variable(tf.truncated_normal([conv_ksize[0],conv_ksize[1], x_tensor.shape[3].value,conv_num_outputs],stddev=0.05))\n",
    "    bias = tf.Variable(tf.zeros(conv_num_outputs))\n",
    "    \n",
    "    x_tensor = tf.nn.conv2d(tf.cast(x_tensor,tf.float32),weights,strides=[1,conv_strides[0],conv_strides[1], 1],padding='SAME')\n",
    "    x_tensor = tf.nn.bias_add(x_tensor,bias)\n",
    "    x_tensor = tf.nn.relu(x_tensor)\n",
    "    x_tensor = tf.nn.max_pool(x_tensor,ksize=[1,pool_ksize[0],pool_ksize[1],1],strides=[1,pool_strides[0],pool_strides[1],1],\n",
    "                             padding='SAME')\n",
    "    return x_tensor\n",
    "\n",
    "\n",
    "\"\"\"\n",
    "DON'T MODIFY ANYTHING IN THIS CELL THAT IS BELOW THIS LINE\n",
    "\"\"\"\n",
    "tests.test_con_pool(conv2d_maxpool)"
   ]
  },
  {
   "cell_type": "markdown",
   "metadata": {
    "deletable": true,
    "editable": true
   },
   "source": [
    "### Flatten Layer\n",
    "Implement the `flatten` function to change the dimension of `x_tensor` from a 4-D tensor to a 2-D tensor.  The output should be the shape (*Batch Size*, *Flattened Image Size*). Shortcut option: you can use classes from the [TensorFlow Layers](https://www.tensorflow.org/api_docs/python/tf/layers) or [TensorFlow Layers (contrib)](https://www.tensorflow.org/api_guides/python/contrib.layers) packages for this layer. For more of a challenge, only use other TensorFlow packages."
   ]
  },
  {
   "cell_type": "code",
   "execution_count": 9,
   "metadata": {
    "collapsed": false,
    "deletable": true,
    "editable": true
   },
   "outputs": [
    {
     "name": "stdout",
     "output_type": "stream",
     "text": [
      "Tests Passed\n"
     ]
    }
   ],
   "source": [
    "def flatten(x_tensor):\n",
    "    \"\"\"\n",
    "    Flatten x_tensor to (Batch Size, Flattened Image Size)\n",
    "    : x_tensor: A tensor of size (Batch Size, ...), where ... are the image dimensions.\n",
    "    : return: A tensor of size (Batch Size, Flattened Image Size).\n",
    "    \"\"\"\n",
    "    # TODO: Implement Function\n",
    "    x_tensor = tf.contrib.layers.flatten(x_tensor)\n",
    "    return x_tensor\n",
    "\n",
    "\n",
    "\"\"\"\n",
    "DON'T MODIFY ANYTHING IN THIS CELL THAT IS BELOW THIS LINE\n",
    "\"\"\"\n",
    "tests.test_flatten(flatten)"
   ]
  },
  {
   "cell_type": "markdown",
   "metadata": {
    "deletable": true,
    "editable": true
   },
   "source": [
    "### Fully-Connected Layer\n",
    "Implement the `fully_conn` function to apply a fully connected layer to `x_tensor` with the shape (*Batch Size*, *num_outputs*). Shortcut option: you can use classes from the [TensorFlow Layers](https://www.tensorflow.org/api_docs/python/tf/layers) or [TensorFlow Layers (contrib)](https://www.tensorflow.org/api_guides/python/contrib.layers) packages for this layer. For more of a challenge, only use other TensorFlow packages."
   ]
  },
  {
   "cell_type": "code",
   "execution_count": 10,
   "metadata": {
    "collapsed": false,
    "deletable": true,
    "editable": true
   },
   "outputs": [
    {
     "name": "stdout",
     "output_type": "stream",
     "text": [
      "Tests Passed\n"
     ]
    }
   ],
   "source": [
    "def fully_conn(x_tensor, num_outputs):\n",
    "    \"\"\"\n",
    "    Apply a fully connected layer to x_tensor using weight and bias\n",
    "    : x_tensor: A 2-D tensor where the first dimension is batch size.\n",
    "    : num_outputs: The number of output that the new tensor should be.\n",
    "    : return: A 2-D tensor where the second dimension is num_outputs.\n",
    "    \"\"\"\n",
    "    # TODO: Implement Function\n",
    "    return tf.contrib.layers.fully_connected(x_tensor, num_outputs)\n",
    "\n",
    "\n",
    "\"\"\"\n",
    "DON'T MODIFY ANYTHING IN THIS CELL THAT IS BELOW THIS LINE\n",
    "\"\"\"\n",
    "tests.test_fully_conn(fully_conn)"
   ]
  },
  {
   "cell_type": "markdown",
   "metadata": {
    "deletable": true,
    "editable": true
   },
   "source": [
    "### Output Layer\n",
    "Implement the `output` function to apply a fully connected layer to `x_tensor` with the shape (*Batch Size*, *num_outputs*). Shortcut option: you can use classes from the [TensorFlow Layers](https://www.tensorflow.org/api_docs/python/tf/layers) or [TensorFlow Layers (contrib)](https://www.tensorflow.org/api_guides/python/contrib.layers) packages for this layer. For more of a challenge, only use other TensorFlow packages.\n",
    "\n",
    "**Note:** Activation, softmax, or cross entropy should **not** be applied to this."
   ]
  },
  {
   "cell_type": "code",
   "execution_count": 11,
   "metadata": {
    "collapsed": false,
    "deletable": true,
    "editable": true
   },
   "outputs": [
    {
     "name": "stdout",
     "output_type": "stream",
     "text": [
      "Tests Passed\n"
     ]
    }
   ],
   "source": [
    "def output(x_tensor, num_outputs):\n",
    "    \"\"\"\n",
    "    Apply a output layer to x_tensor using weight and bias\n",
    "    : x_tensor: A 2-D tensor where the first dimension is batch size.\n",
    "    : num_outputs: The number of output that the new tensor should be.\n",
    "    : return: A 2-D tensor where the second dimension is num_outputs.\n",
    "    \"\"\"\n",
    "    # TODO: Implement Function\n",
    "    size = x_tensor.get_shape().as_list()\n",
    "    weights = tf.Variable(tf.truncated_normal((size[1], num_outputs), stddev=0.05))\n",
    "    bias = tf.Variable(tf.zeros(num_outputs))\n",
    "    out = tf.add(tf.matmul(x_tensor, weights), bias)\n",
    "    return out\n",
    "\n",
    "\n",
    "\"\"\"\n",
    "DON'T MODIFY ANYTHING IN THIS CELL THAT IS BELOW THIS LINE\n",
    "\"\"\"\n",
    "tests.test_output(output)"
   ]
  },
  {
   "cell_type": "markdown",
   "metadata": {
    "deletable": true,
    "editable": true
   },
   "source": [
    "### Create Convolutional Model\n",
    "Implement the function `conv_net` to create a convolutional neural network model. The function takes in a batch of images, `x`, and outputs logits.  Use the layers you created above to create this model:\n",
    "\n",
    "* Apply 1, 2, or 3 Convolution and Max Pool layers\n",
    "* Apply a Flatten Layer\n",
    "* Apply 1, 2, or 3 Fully Connected Layers\n",
    "* Apply an Output Layer\n",
    "* Return the output\n",
    "* Apply [TensorFlow's Dropout](https://www.tensorflow.org/api_docs/python/tf/nn/dropout) to one or more layers in the model using `keep_prob`. "
   ]
  },
  {
   "cell_type": "code",
   "execution_count": 12,
   "metadata": {
    "collapsed": false,
    "deletable": true,
    "editable": true
   },
   "outputs": [
    {
     "name": "stdout",
     "output_type": "stream",
     "text": [
      "Neural Network Built!\n"
     ]
    }
   ],
   "source": [
    "def conv_net(x, keep_prob):\n",
    "    \"\"\"\n",
    "    Create a convolutional neural network model\n",
    "    : x: Placeholder tensor that holds image data.\n",
    "    : keep_prob: Placeholder tensor that hold dropout keep probability.\n",
    "    : return: Tensor that represents logits\n",
    "    \"\"\"\n",
    "    # TODO: Apply 1, 2, or 3 Convolution and Max Pool layers\n",
    "    #    Play around with different number of outputs, kernel size and stride\n",
    "    # Function Definition from Above:\n",
    "    #    conv2d_maxpool(x_tensor, conv_num_outputs, conv_ksize, conv_strides, pool_ksize, pool_strides)\n",
    "    x_tensor = x\n",
    "    conv_num_outputs = 32\n",
    "    conv_ksize = (2,2)\n",
    "    conv_strides = (1,1)\n",
    "    pool_ksize = (2,2)\n",
    "    pool_strides = (1,1)\n",
    "    num_outputs = 10\n",
    "\n",
    "    conv = conv2d_maxpool(x_tensor, conv_num_outputs, conv_ksize, conv_strides, pool_ksize, pool_strides)\n",
    "    \n",
    "    conv_num_outputs = 32\n",
    "    conv_ksize = (4,4)\n",
    "    conv_strides = (1,1)\n",
    "    pool_ksize = (4,4)\n",
    "    pool_strides = (1,1)\n",
    "    \n",
    "    conv = conv2d_maxpool(conv, conv_num_outputs, conv_ksize, conv_strides, pool_ksize, pool_strides)\n",
    "    \n",
    "    # TODO: Apply a Flatten Layer\n",
    "    # Function Definition from Above:\n",
    "    #   flatten(x_tensor)\n",
    "    flat = flatten(conv)\n",
    "    \n",
    "    # TODO: Apply 1, 2, or 3 Fully Connected Layers\n",
    "    #    Play around with different number of outputs\n",
    "    # Function Definition from Above:\n",
    "    fully = fully_conn(flat, 32)\n",
    "    fully = tf.nn.dropout(fully, tf.cast(keep_prob,tf.float32))\n",
    "    fully = fully_conn(fully, 16)\n",
    "    #fully = tf.nn.dropout(fully, tf.cast(keep_prob,tf.float32))\n",
    "    #fully = fully_conn(fully, 8)\n",
    "    \n",
    "    # TODO: Apply an Output Layer\n",
    "    #    Set this to the number of classes\n",
    "    # Function Definition from Above:\n",
    "    #   output(x_tensor, num_outputs)\n",
    "    out_data = output(fully, num_outputs)\n",
    "       \n",
    "    # TODO: return output\n",
    "    #return result\n",
    "    return out_data\n",
    "\n",
    "\"\"\"\n",
    "DON'T MODIFY ANYTHING IN THIS CELL THAT IS BELOW THIS LINE\n",
    "\"\"\"\n",
    "\n",
    "##############################\n",
    "## Build the Neural Network ##\n",
    "##############################\n",
    "\n",
    "# Remove previous weights, bias, inputs, etc..\n",
    "tf.reset_default_graph()\n",
    "\n",
    "# Inputs\n",
    "x = neural_net_image_input((32, 32, 3))\n",
    "y = neural_net_label_input(10)\n",
    "keep_prob = neural_net_keep_prob_input()\n",
    "\n",
    "# Model\n",
    "logits = conv_net(x, keep_prob)\n",
    "\n",
    "# Name logits Tensor, so that is can be loaded from disk after training\n",
    "logits = tf.identity(logits, name='logits')\n",
    "\n",
    "# Loss and Optimizer\n",
    "cost = tf.reduce_mean(tf.nn.softmax_cross_entropy_with_logits(logits=logits, labels=y))\n",
    "optimizer = tf.train.AdamOptimizer().minimize(cost)\n",
    "\n",
    "# Accuracy\n",
    "correct_pred = tf.equal(tf.argmax(logits, 1), tf.argmax(y, 1))\n",
    "accuracy = tf.reduce_mean(tf.cast(correct_pred, tf.float32), name='accuracy')\n",
    "\n",
    "tests.test_conv_net(conv_net)"
   ]
  },
  {
   "cell_type": "markdown",
   "metadata": {
    "deletable": true,
    "editable": true
   },
   "source": [
    "## Train the Neural Network\n",
    "### Single Optimization\n",
    "Implement the function `train_neural_network` to do a single optimization.  The optimization should use `optimizer` to optimize in `session` with a `feed_dict` of the following:\n",
    "* `x` for image input\n",
    "* `y` for labels\n",
    "* `keep_prob` for keep probability for dropout\n",
    "\n",
    "This function will be called for each batch, so `tf.global_variables_initializer()` has already been called.\n",
    "\n",
    "Note: Nothing needs to be returned. This function is only optimizing the neural network."
   ]
  },
  {
   "cell_type": "code",
   "execution_count": 13,
   "metadata": {
    "collapsed": false,
    "deletable": true,
    "editable": true
   },
   "outputs": [
    {
     "name": "stdout",
     "output_type": "stream",
     "text": [
      "Tests Passed\n"
     ]
    }
   ],
   "source": [
    "def train_neural_network(session, optimizer, keep_probability, feature_batch, label_batch):\n",
    "    \"\"\"\n",
    "    Optimize the session on a batch of images and labels\n",
    "    : session: Current TensorFlow session\n",
    "    : optimizer: TensorFlow optimizer function\n",
    "    : keep_probability: keep probability\n",
    "    : feature_batch: Batch of Numpy image data\n",
    "    : label_batch: Batch of Numpy label data\n",
    "    \"\"\"\n",
    "    # TODO: Implement Function\n",
    "    session.run(optimizer, feed_dict={x: feature_batch, y: label_batch, keep_prob: keep_probability})\n",
    "    pass\n",
    "\n",
    "\n",
    "\"\"\"\n",
    "DON'T MODIFY ANYTHING IN THIS CELL THAT IS BELOW THIS LINE\n",
    "\"\"\"\n",
    "tests.test_train_nn(train_neural_network)"
   ]
  },
  {
   "cell_type": "markdown",
   "metadata": {
    "deletable": true,
    "editable": true
   },
   "source": [
    "### Show Stats\n",
    "Implement the function `print_stats` to print loss and validation accuracy.  Use the global variables `valid_features` and `valid_labels` to calculate validation accuracy.  Use a keep probability of `1.0` to calculate the loss and validation accuracy."
   ]
  },
  {
   "cell_type": "code",
   "execution_count": 14,
   "metadata": {
    "collapsed": false,
    "deletable": true,
    "editable": true
   },
   "outputs": [],
   "source": [
    "def print_stats(session, feature_batch, label_batch, cost, accuracy):\n",
    "    \"\"\"\n",
    "    Print information about loss and validation accuracy\n",
    "    : session: Current TensorFlow session\n",
    "    : feature_batch: Batch of Numpy image data\n",
    "    : label_batch: Batch of Numpy label data\n",
    "    : cost: TensorFlow cost function\n",
    "    : accuracy: TensorFlow accuracy function\n",
    "    \"\"\"\n",
    "    # TODO: Implement Function\n",
    "    loss = session.run(cost, feed_dict={x: feature_batch, y: label_batch, keep_prob:1.0})\n",
    "    valid_acc = session.run(accuracy, feed_dict={x: valid_features, y: valid_labels, keep_prob:1.0})\n",
    "    print('Loss at {}'.format(loss), 'Validation Accuracy at {}'.format(valid_acc))    \n",
    "    pass"
   ]
  },
  {
   "cell_type": "markdown",
   "metadata": {
    "deletable": true,
    "editable": true
   },
   "source": [
    "### Hyperparameters\n",
    "Tune the following parameters:\n",
    "* Set `epochs` to the number of iterations until the network stops learning or start overfitting\n",
    "* Set `batch_size` to the highest number that your machine has memory for.  Most people set them to common sizes of memory:\n",
    " * 64\n",
    " * 128\n",
    " * 256\n",
    " * ...\n",
    "* Set `keep_probability` to the probability of keeping a node using dropout"
   ]
  },
  {
   "cell_type": "code",
   "execution_count": 15,
   "metadata": {
    "collapsed": true,
    "deletable": true,
    "editable": true
   },
   "outputs": [],
   "source": [
    "# TODO: Tune Parameters\n",
    "epochs = 35\n",
    "batch_size = 512\n",
    "keep_probability = 0.75"
   ]
  },
  {
   "cell_type": "markdown",
   "metadata": {
    "deletable": true,
    "editable": true
   },
   "source": [
    "### Train on a Single CIFAR-10 Batch\n",
    "Instead of training the neural network on all the CIFAR-10 batches of data, let's use a single batch. This should save time while you iterate on the model to get a better accuracy.  Once the final validation accuracy is 50% or greater, run the model on all the data in the next section."
   ]
  },
  {
   "cell_type": "code",
   "execution_count": 16,
   "metadata": {
    "collapsed": false,
    "deletable": true,
    "editable": true,
    "scrolled": false
   },
   "outputs": [
    {
     "name": "stdout",
     "output_type": "stream",
     "text": [
      "Checking the Training on a Single Batch...\n",
      "Epoch  1, CIFAR-10 Batch 1:  Loss at 2.1911776065826416 Validation Accuracy at 0.22419999539852142\n",
      "Epoch  2, CIFAR-10 Batch 1:  Loss at 2.0364933013916016 Validation Accuracy at 0.2521999776363373\n",
      "Epoch  3, CIFAR-10 Batch 1:  Loss at 1.929046392440796 Validation Accuracy at 0.2784000039100647\n",
      "Epoch  4, CIFAR-10 Batch 1:  Loss at 1.831947684288025 Validation Accuracy at 0.3294000029563904\n",
      "Epoch  5, CIFAR-10 Batch 1:  Loss at 1.7693911790847778 Validation Accuracy at 0.35359999537467957\n",
      "Epoch  6, CIFAR-10 Batch 1:  Loss at 1.7317821979522705 Validation Accuracy at 0.3628000020980835\n",
      "Epoch  7, CIFAR-10 Batch 1:  Loss at 1.6555618047714233 Validation Accuracy at 0.4137999713420868\n",
      "Epoch  8, CIFAR-10 Batch 1:  Loss at 1.590658187866211 Validation Accuracy at 0.42959997057914734\n",
      "Epoch  9, CIFAR-10 Batch 1:  Loss at 1.5526278018951416 Validation Accuracy at 0.4451999366283417\n",
      "Epoch 10, CIFAR-10 Batch 1:  Loss at 1.500015377998352 Validation Accuracy at 0.4607999622821808\n",
      "Epoch 11, CIFAR-10 Batch 1:  Loss at 1.4608964920043945 Validation Accuracy at 0.46439996361732483\n",
      "Epoch 12, CIFAR-10 Batch 1:  Loss at 1.4484493732452393 Validation Accuracy at 0.4803999662399292\n",
      "Epoch 13, CIFAR-10 Batch 1:  Loss at 1.3809032440185547 Validation Accuracy at 0.480199933052063\n",
      "Epoch 14, CIFAR-10 Batch 1:  Loss at 1.3636289834976196 Validation Accuracy at 0.4843999743461609\n",
      "Epoch 15, CIFAR-10 Batch 1:  Loss at 1.3368210792541504 Validation Accuracy at 0.4887999892234802\n",
      "Epoch 16, CIFAR-10 Batch 1:  Loss at 1.3106741905212402 Validation Accuracy at 0.5043999552726746\n",
      "Epoch 17, CIFAR-10 Batch 1:  Loss at 1.2481657266616821 Validation Accuracy at 0.5041999220848083\n",
      "Epoch 18, CIFAR-10 Batch 1:  Loss at 1.246650218963623 Validation Accuracy at 0.5059999823570251\n",
      "Epoch 19, CIFAR-10 Batch 1:  Loss at 1.2205616235733032 Validation Accuracy at 0.5237999558448792\n",
      "Epoch 20, CIFAR-10 Batch 1:  Loss at 1.1847411394119263 Validation Accuracy at 0.517799973487854\n",
      "Epoch 21, CIFAR-10 Batch 1:  Loss at 1.162114143371582 Validation Accuracy at 0.5213999152183533\n",
      "Epoch 22, CIFAR-10 Batch 1:  Loss at 1.1192562580108643 Validation Accuracy at 0.5267999172210693\n",
      "Epoch 23, CIFAR-10 Batch 1:  Loss at 1.1219373941421509 Validation Accuracy at 0.5263999700546265\n",
      "Epoch 24, CIFAR-10 Batch 1:  Loss at 1.0984902381896973 Validation Accuracy at 0.5331999659538269\n",
      "Epoch 25, CIFAR-10 Batch 1:  Loss at 1.0916574001312256 Validation Accuracy at 0.531999945640564\n",
      "Epoch 26, CIFAR-10 Batch 1:  Loss at 1.075746774673462 Validation Accuracy at 0.5211999416351318\n",
      "Epoch 27, CIFAR-10 Batch 1:  Loss at 1.0536333322525024 Validation Accuracy at 0.531999945640564\n",
      "Epoch 28, CIFAR-10 Batch 1:  Loss at 1.0680129528045654 Validation Accuracy at 0.5295999646186829\n",
      "Epoch 29, CIFAR-10 Batch 1:  Loss at 1.0107167959213257 Validation Accuracy at 0.5411999821662903\n",
      "Epoch 30, CIFAR-10 Batch 1:  Loss at 0.9856685996055603 Validation Accuracy at 0.5385999083518982\n",
      "Epoch 31, CIFAR-10 Batch 1:  Loss at 0.9571787118911743 Validation Accuracy at 0.5499998927116394\n",
      "Epoch 32, CIFAR-10 Batch 1:  Loss at 0.9483843445777893 Validation Accuracy at 0.5489999651908875\n",
      "Epoch 33, CIFAR-10 Batch 1:  Loss at 0.9496321678161621 Validation Accuracy at 0.5519998669624329\n",
      "Epoch 34, CIFAR-10 Batch 1:  Loss at 0.938748300075531 Validation Accuracy at 0.5315999388694763\n",
      "Epoch 35, CIFAR-10 Batch 1:  Loss at 0.912307858467102 Validation Accuracy at 0.5449999570846558\n"
     ]
    }
   ],
   "source": [
    "\"\"\"\n",
    "DON'T MODIFY ANYTHING IN THIS CELL\n",
    "\"\"\"\n",
    "print('Checking the Training on a Single Batch...')\n",
    "with tf.Session() as sess:\n",
    "    # Initializing the variables\n",
    "    sess.run(tf.global_variables_initializer())\n",
    "    \n",
    "    # Training cycle\n",
    "    for epoch in range(epochs):\n",
    "        batch_i = 1\n",
    "        for batch_features, batch_labels in helper.load_preprocess_training_batch(batch_i, batch_size):\n",
    "            train_neural_network(sess, optimizer, keep_probability, batch_features, batch_labels)\n",
    "        print('Epoch {:>2}, CIFAR-10 Batch {}:  '.format(epoch + 1, batch_i), end='')\n",
    "        print_stats(sess, batch_features, batch_labels, cost, accuracy)"
   ]
  },
  {
   "cell_type": "markdown",
   "metadata": {
    "deletable": true,
    "editable": true
   },
   "source": [
    "### Fully Train the Model\n",
    "Now that you got a good accuracy with a single CIFAR-10 batch, try it with all five batches."
   ]
  },
  {
   "cell_type": "code",
   "execution_count": 17,
   "metadata": {
    "collapsed": false,
    "deletable": true,
    "editable": true
   },
   "outputs": [
    {
     "name": "stdout",
     "output_type": "stream",
     "text": [
      "Training...\n",
      "Epoch  1, CIFAR-10 Batch 1:  Loss at 2.1976706981658936 Validation Accuracy at 0.19759999215602875\n",
      "Epoch  1, CIFAR-10 Batch 2:  Loss at 1.9588994979858398 Validation Accuracy at 0.28679999709129333\n",
      "Epoch  1, CIFAR-10 Batch 3:  Loss at 1.8221328258514404 Validation Accuracy at 0.32899996638298035\n",
      "Epoch  1, CIFAR-10 Batch 4:  Loss at 1.7059943675994873 Validation Accuracy at 0.370199978351593\n",
      "Epoch  1, CIFAR-10 Batch 5:  Loss at 1.7300348281860352 Validation Accuracy at 0.39879995584487915\n",
      "Epoch  2, CIFAR-10 Batch 1:  Loss at 1.7784035205841064 Validation Accuracy at 0.3944000005722046\n",
      "Epoch  2, CIFAR-10 Batch 2:  Loss at 1.653082251548767 Validation Accuracy at 0.4043999910354614\n",
      "Epoch  2, CIFAR-10 Batch 3:  Loss at 1.4687410593032837 Validation Accuracy at 0.4419999420642853\n",
      "Epoch  2, CIFAR-10 Batch 4:  Loss at 1.4821957349777222 Validation Accuracy at 0.44039997458457947\n",
      "Epoch  2, CIFAR-10 Batch 5:  Loss at 1.5230425596237183 Validation Accuracy at 0.4453999400138855\n",
      "Epoch  3, CIFAR-10 Batch 1:  Loss at 1.596368670463562 Validation Accuracy at 0.4495999813079834\n",
      "Epoch  3, CIFAR-10 Batch 2:  Loss at 1.5303850173950195 Validation Accuracy at 0.46799996495246887\n",
      "Epoch  3, CIFAR-10 Batch 3:  Loss at 1.3455030918121338 Validation Accuracy at 0.4705999493598938\n",
      "Epoch  3, CIFAR-10 Batch 4:  Loss at 1.3477952480316162 Validation Accuracy at 0.48059993982315063\n",
      "Epoch  3, CIFAR-10 Batch 5:  Loss at 1.4264785051345825 Validation Accuracy at 0.47839999198913574\n",
      "Epoch  4, CIFAR-10 Batch 1:  Loss at 1.493749976158142 Validation Accuracy at 0.48079997301101685\n",
      "Epoch  4, CIFAR-10 Batch 2:  Loss at 1.4514827728271484 Validation Accuracy at 0.4901999533176422\n",
      "Epoch  4, CIFAR-10 Batch 3:  Loss at 1.2571579217910767 Validation Accuracy at 0.4995999336242676\n",
      "Epoch  4, CIFAR-10 Batch 4:  Loss at 1.2713327407836914 Validation Accuracy at 0.5095999240875244\n",
      "Epoch  4, CIFAR-10 Batch 5:  Loss at 1.3808209896087646 Validation Accuracy at 0.49459993839263916\n",
      "Epoch  5, CIFAR-10 Batch 1:  Loss at 1.424683690071106 Validation Accuracy at 0.5079999566078186\n",
      "Epoch  5, CIFAR-10 Batch 2:  Loss at 1.363168478012085 Validation Accuracy at 0.5095999240875244\n",
      "Epoch  5, CIFAR-10 Batch 3:  Loss at 1.2105095386505127 Validation Accuracy at 0.5145999789237976\n",
      "Epoch  5, CIFAR-10 Batch 4:  Loss at 1.2296408414840698 Validation Accuracy at 0.5259999632835388\n",
      "Epoch  5, CIFAR-10 Batch 5:  Loss at 1.3058305978775024 Validation Accuracy at 0.5181999206542969\n",
      "Epoch  6, CIFAR-10 Batch 1:  Loss at 1.3651881217956543 Validation Accuracy at 0.5277999639511108\n",
      "Epoch  6, CIFAR-10 Batch 2:  Loss at 1.3096290826797485 Validation Accuracy at 0.5289999842643738\n",
      "Epoch  6, CIFAR-10 Batch 3:  Loss at 1.183546543121338 Validation Accuracy at 0.5197999477386475\n",
      "Epoch  6, CIFAR-10 Batch 4:  Loss at 1.1816589832305908 Validation Accuracy at 0.5357999205589294\n",
      "Epoch  6, CIFAR-10 Batch 5:  Loss at 1.2798576354980469 Validation Accuracy at 0.5233998894691467\n",
      "Epoch  7, CIFAR-10 Batch 1:  Loss at 1.313625693321228 Validation Accuracy at 0.5471999645233154\n",
      "Epoch  7, CIFAR-10 Batch 2:  Loss at 1.2707425355911255 Validation Accuracy at 0.5467999577522278\n",
      "Epoch  7, CIFAR-10 Batch 3:  Loss at 1.1602606773376465 Validation Accuracy at 0.5359999537467957\n",
      "Epoch  7, CIFAR-10 Batch 4:  Loss at 1.1290178298950195 Validation Accuracy at 0.5523999333381653\n",
      "Epoch  7, CIFAR-10 Batch 5:  Loss at 1.2229892015457153 Validation Accuracy at 0.543199896812439\n",
      "Epoch  8, CIFAR-10 Batch 1:  Loss at 1.31777822971344 Validation Accuracy at 0.5511999130249023\n",
      "Epoch  8, CIFAR-10 Batch 2:  Loss at 1.2164007425308228 Validation Accuracy at 0.5491999387741089\n",
      "Epoch  8, CIFAR-10 Batch 3:  Loss at 1.1391067504882812 Validation Accuracy at 0.539199948310852\n",
      "Epoch  8, CIFAR-10 Batch 4:  Loss at 1.0816595554351807 Validation Accuracy at 0.5623999238014221\n",
      "Epoch  8, CIFAR-10 Batch 5:  Loss at 1.1739897727966309 Validation Accuracy at 0.5529999732971191\n",
      "Epoch  9, CIFAR-10 Batch 1:  Loss at 1.243831753730774 Validation Accuracy at 0.567599892616272\n",
      "Epoch  9, CIFAR-10 Batch 2:  Loss at 1.1952515840530396 Validation Accuracy at 0.5523999333381653\n",
      "Epoch  9, CIFAR-10 Batch 3:  Loss at 1.071441650390625 Validation Accuracy at 0.562999963760376\n",
      "Epoch  9, CIFAR-10 Batch 4:  Loss at 1.052544116973877 Validation Accuracy at 0.5815999507904053\n",
      "Epoch  9, CIFAR-10 Batch 5:  Loss at 1.1476694345474243 Validation Accuracy at 0.5643999576568604\n",
      "Epoch 10, CIFAR-10 Batch 1:  Loss at 1.2188754081726074 Validation Accuracy at 0.5667999982833862\n",
      "Epoch 10, CIFAR-10 Batch 2:  Loss at 1.1360583305358887 Validation Accuracy at 0.5683999061584473\n",
      "Epoch 10, CIFAR-10 Batch 3:  Loss at 1.0626016855239868 Validation Accuracy at 0.5733999013900757\n",
      "Epoch 10, CIFAR-10 Batch 4:  Loss at 1.0279227495193481 Validation Accuracy at 0.5799999237060547\n",
      "Epoch 10, CIFAR-10 Batch 5:  Loss at 1.1197614669799805 Validation Accuracy at 0.5689998865127563\n",
      "Epoch 11, CIFAR-10 Batch 1:  Loss at 1.2000041007995605 Validation Accuracy at 0.5861998796463013\n",
      "Epoch 11, CIFAR-10 Batch 2:  Loss at 1.1285738945007324 Validation Accuracy at 0.5553998947143555\n",
      "Epoch 11, CIFAR-10 Batch 3:  Loss at 1.0245945453643799 Validation Accuracy at 0.5793999433517456\n",
      "Epoch 11, CIFAR-10 Batch 4:  Loss at 0.9657680988311768 Validation Accuracy at 0.5947999358177185\n",
      "Epoch 11, CIFAR-10 Batch 5:  Loss at 1.0688586235046387 Validation Accuracy at 0.5785999894142151\n",
      "Epoch 12, CIFAR-10 Batch 1:  Loss at 1.1442451477050781 Validation Accuracy at 0.5783998966217041\n",
      "Epoch 12, CIFAR-10 Batch 2:  Loss at 1.0698376893997192 Validation Accuracy at 0.5767998695373535\n",
      "Epoch 12, CIFAR-10 Batch 3:  Loss at 0.9607246518135071 Validation Accuracy at 0.5893999338150024\n",
      "Epoch 12, CIFAR-10 Batch 4:  Loss at 0.9844475984573364 Validation Accuracy at 0.5883998870849609\n",
      "Epoch 12, CIFAR-10 Batch 5:  Loss at 1.080186367034912 Validation Accuracy at 0.5749999284744263\n",
      "Epoch 13, CIFAR-10 Batch 1:  Loss at 1.1513988971710205 Validation Accuracy at 0.5927999019622803\n",
      "Epoch 13, CIFAR-10 Batch 2:  Loss at 1.0312695503234863 Validation Accuracy at 0.5841999053955078\n",
      "Epoch 13, CIFAR-10 Batch 3:  Loss at 0.958191454410553 Validation Accuracy at 0.5933999419212341\n",
      "Epoch 13, CIFAR-10 Batch 4:  Loss at 0.9778697490692139 Validation Accuracy at 0.5945999026298523\n",
      "Epoch 13, CIFAR-10 Batch 5:  Loss at 1.0284831523895264 Validation Accuracy at 0.5901999473571777\n",
      "Epoch 14, CIFAR-10 Batch 1:  Loss at 1.1073557138442993 Validation Accuracy at 0.5953999161720276\n",
      "Epoch 14, CIFAR-10 Batch 2:  Loss at 1.011063814163208 Validation Accuracy at 0.6047999262809753\n",
      "Epoch 14, CIFAR-10 Batch 3:  Loss at 0.9394874572753906 Validation Accuracy at 0.600399911403656\n",
      "Epoch 14, CIFAR-10 Batch 4:  Loss at 0.9330421090126038 Validation Accuracy at 0.6045998930931091\n",
      "Epoch 14, CIFAR-10 Batch 5:  Loss at 0.9637356996536255 Validation Accuracy at 0.6091998815536499\n",
      "Epoch 15, CIFAR-10 Batch 1:  Loss at 1.0603718757629395 Validation Accuracy at 0.6063998937606812\n",
      "Epoch 15, CIFAR-10 Batch 2:  Loss at 0.952680230140686 Validation Accuracy at 0.6141999363899231\n",
      "Epoch 15, CIFAR-10 Batch 3:  Loss at 0.8846694231033325 Validation Accuracy at 0.6105998754501343\n",
      "Epoch 15, CIFAR-10 Batch 4:  Loss at 0.9082779884338379 Validation Accuracy at 0.6089999079704285\n",
      "Epoch 15, CIFAR-10 Batch 5:  Loss at 0.960494875907898 Validation Accuracy at 0.6115999221801758\n",
      "Epoch 16, CIFAR-10 Batch 1:  Loss at 1.0612585544586182 Validation Accuracy at 0.6033998727798462\n",
      "Epoch 16, CIFAR-10 Batch 2:  Loss at 0.9501827359199524 Validation Accuracy at 0.6111998558044434\n",
      "Epoch 16, CIFAR-10 Batch 3:  Loss at 0.904926598072052 Validation Accuracy at 0.6091999411582947\n",
      "Epoch 16, CIFAR-10 Batch 4:  Loss at 0.8984010815620422 Validation Accuracy at 0.6133999228477478\n",
      "Epoch 16, CIFAR-10 Batch 5:  Loss at 0.9399100542068481 Validation Accuracy at 0.6149998903274536\n",
      "Epoch 17, CIFAR-10 Batch 1:  Loss at 1.0229922533035278 Validation Accuracy at 0.6177998781204224\n",
      "Epoch 17, CIFAR-10 Batch 2:  Loss at 0.9211772680282593 Validation Accuracy at 0.6165998578071594\n",
      "Epoch 17, CIFAR-10 Batch 3:  Loss at 0.862744152545929 Validation Accuracy at 0.6129999160766602\n",
      "Epoch 17, CIFAR-10 Batch 4:  Loss at 0.8972252607345581 Validation Accuracy at 0.6017999649047852\n",
      "Epoch 17, CIFAR-10 Batch 5:  Loss at 0.9335734844207764 Validation Accuracy at 0.6083998680114746\n",
      "Epoch 18, CIFAR-10 Batch 1:  Loss at 0.9837393164634705 Validation Accuracy at 0.6253998875617981\n",
      "Epoch 18, CIFAR-10 Batch 2:  Loss at 0.8921608328819275 Validation Accuracy at 0.6267998814582825\n",
      "Epoch 18, CIFAR-10 Batch 3:  Loss at 0.8555205464363098 Validation Accuracy at 0.6165999174118042\n",
      "Epoch 18, CIFAR-10 Batch 4:  Loss at 0.8527153730392456 Validation Accuracy at 0.622999906539917\n",
      "Epoch 18, CIFAR-10 Batch 5:  Loss at 0.8910900354385376 Validation Accuracy at 0.614599883556366\n",
      "Epoch 19, CIFAR-10 Batch 1:  Loss at 0.9786980748176575 Validation Accuracy at 0.6335999369621277\n",
      "Epoch 19, CIFAR-10 Batch 2:  Loss at 0.8669039011001587 Validation Accuracy at 0.6297999024391174\n",
      "Epoch 19, CIFAR-10 Batch 3:  Loss at 0.8250706195831299 Validation Accuracy at 0.6223999261856079\n",
      "Epoch 19, CIFAR-10 Batch 4:  Loss at 0.8426971435546875 Validation Accuracy at 0.6331998705863953\n",
      "Epoch 19, CIFAR-10 Batch 5:  Loss at 0.8835656046867371 Validation Accuracy at 0.6255999207496643\n",
      "Epoch 20, CIFAR-10 Batch 1:  Loss at 0.9450362920761108 Validation Accuracy at 0.6307998895645142\n",
      "Epoch 20, CIFAR-10 Batch 2:  Loss at 0.8645222187042236 Validation Accuracy at 0.6251999139785767\n",
      "Epoch 20, CIFAR-10 Batch 3:  Loss at 0.8078333139419556 Validation Accuracy at 0.6313998699188232\n",
      "Epoch 20, CIFAR-10 Batch 4:  Loss at 0.8351203799247742 Validation Accuracy at 0.6299998760223389\n",
      "Epoch 20, CIFAR-10 Batch 5:  Loss at 0.8494252562522888 Validation Accuracy at 0.6309998631477356\n",
      "Epoch 21, CIFAR-10 Batch 1:  Loss at 0.9157271385192871 Validation Accuracy at 0.6449998617172241\n",
      "Epoch 21, CIFAR-10 Batch 2:  Loss at 0.8527318835258484 Validation Accuracy at 0.6203998923301697\n",
      "Epoch 21, CIFAR-10 Batch 3:  Loss at 0.8217973709106445 Validation Accuracy at 0.6323999166488647\n",
      "Epoch 21, CIFAR-10 Batch 4:  Loss at 0.8395333290100098 Validation Accuracy at 0.6251999139785767\n",
      "Epoch 21, CIFAR-10 Batch 5:  Loss at 0.8694730401039124 Validation Accuracy at 0.6171998977661133\n",
      "Epoch 22, CIFAR-10 Batch 1:  Loss at 0.9207957983016968 Validation Accuracy at 0.6443998217582703\n",
      "Epoch 22, CIFAR-10 Batch 2:  Loss at 0.8325238227844238 Validation Accuracy at 0.6385998725891113\n",
      "Epoch 22, CIFAR-10 Batch 3:  Loss at 0.7728573083877563 Validation Accuracy at 0.6455999612808228\n",
      "Epoch 22, CIFAR-10 Batch 4:  Loss at 0.8108952641487122 Validation Accuracy at 0.6373999118804932\n",
      "Epoch 22, CIFAR-10 Batch 5:  Loss at 0.8375976085662842 Validation Accuracy at 0.6331999897956848\n",
      "Epoch 23, CIFAR-10 Batch 1:  Loss at 0.9390217065811157 Validation Accuracy at 0.6377999186515808\n",
      "Epoch 23, CIFAR-10 Batch 2:  Loss at 0.8210216760635376 Validation Accuracy at 0.6461999416351318\n",
      "Epoch 23, CIFAR-10 Batch 3:  Loss at 0.8125017881393433 Validation Accuracy at 0.6283999085426331\n",
      "Epoch 23, CIFAR-10 Batch 4:  Loss at 0.7983125448226929 Validation Accuracy at 0.6395998001098633\n",
      "Epoch 23, CIFAR-10 Batch 5:  Loss at 0.8120908737182617 Validation Accuracy at 0.6379998922348022\n",
      "Epoch 24, CIFAR-10 Batch 1:  Loss at 0.9214640259742737 Validation Accuracy at 0.6479998826980591\n",
      "Epoch 24, CIFAR-10 Batch 2:  Loss at 0.779506504535675 Validation Accuracy at 0.6541998386383057\n",
      "Epoch 24, CIFAR-10 Batch 3:  Loss at 0.7787073254585266 Validation Accuracy at 0.6381999254226685\n",
      "Epoch 24, CIFAR-10 Batch 4:  Loss at 0.7682717442512512 Validation Accuracy at 0.6435999274253845\n",
      "Epoch 24, CIFAR-10 Batch 5:  Loss at 0.786561131477356 Validation Accuracy at 0.6351999044418335\n",
      "Epoch 25, CIFAR-10 Batch 1:  Loss at 0.9171246290206909 Validation Accuracy at 0.6497998833656311\n",
      "Epoch 25, CIFAR-10 Batch 2:  Loss at 0.7717705965042114 Validation Accuracy at 0.6559998989105225\n",
      "Epoch 25, CIFAR-10 Batch 3:  Loss at 0.7590062618255615 Validation Accuracy at 0.6383998990058899\n",
      "Epoch 25, CIFAR-10 Batch 4:  Loss at 0.7572685480117798 Validation Accuracy at 0.6487998962402344\n",
      "Epoch 25, CIFAR-10 Batch 5:  Loss at 0.7754904627799988 Validation Accuracy at 0.6351998448371887\n",
      "Epoch 26, CIFAR-10 Batch 1:  Loss at 0.8771965503692627 Validation Accuracy at 0.650399923324585\n",
      "Epoch 26, CIFAR-10 Batch 2:  Loss at 0.7551974654197693 Validation Accuracy at 0.6533998847007751\n",
      "Epoch 26, CIFAR-10 Batch 3:  Loss at 0.7463906407356262 Validation Accuracy at 0.6337999105453491\n",
      "Epoch 26, CIFAR-10 Batch 4:  Loss at 0.7534421682357788 Validation Accuracy at 0.6433998942375183\n",
      "Epoch 26, CIFAR-10 Batch 5:  Loss at 0.783647358417511 Validation Accuracy at 0.6385999321937561\n",
      "Epoch 27, CIFAR-10 Batch 1:  Loss at 0.8459195494651794 Validation Accuracy at 0.650999903678894\n",
      "Epoch 27, CIFAR-10 Batch 2:  Loss at 0.7636206746101379 Validation Accuracy at 0.6577998995780945\n",
      "Epoch 27, CIFAR-10 Batch 3:  Loss at 0.7045861482620239 Validation Accuracy at 0.6459998488426208\n",
      "Epoch 27, CIFAR-10 Batch 4:  Loss at 0.761005163192749 Validation Accuracy at 0.6411998867988586\n",
      "Epoch 27, CIFAR-10 Batch 5:  Loss at 0.7459123730659485 Validation Accuracy at 0.6523998975753784\n",
      "Epoch 28, CIFAR-10 Batch 1:  Loss at 0.8605085015296936 Validation Accuracy at 0.6479998826980591\n",
      "Epoch 28, CIFAR-10 Batch 2:  Loss at 0.7377727627754211 Validation Accuracy at 0.6627998352050781\n",
      "Epoch 28, CIFAR-10 Batch 3:  Loss at 0.7170841693878174 Validation Accuracy at 0.6535998582839966\n",
      "Epoch 28, CIFAR-10 Batch 4:  Loss at 0.7468465566635132 Validation Accuracy at 0.6415998935699463\n",
      "Epoch 28, CIFAR-10 Batch 5:  Loss at 0.73772132396698 Validation Accuracy at 0.6441999077796936\n",
      "Epoch 29, CIFAR-10 Batch 1:  Loss at 0.8540815711021423 Validation Accuracy at 0.654999852180481\n",
      "Epoch 29, CIFAR-10 Batch 2:  Loss at 0.6980755925178528 Validation Accuracy at 0.6603999137878418\n",
      "Epoch 29, CIFAR-10 Batch 3:  Loss at 0.7153028845787048 Validation Accuracy at 0.6463998556137085\n",
      "Epoch 29, CIFAR-10 Batch 4:  Loss at 0.7520918846130371 Validation Accuracy at 0.6433999538421631\n",
      "Epoch 29, CIFAR-10 Batch 5:  Loss at 0.7311320304870605 Validation Accuracy at 0.6515998840332031\n",
      "Epoch 30, CIFAR-10 Batch 1:  Loss at 0.8433899283409119 Validation Accuracy at 0.6367998719215393\n",
      "Epoch 30, CIFAR-10 Batch 2:  Loss at 0.7340584993362427 Validation Accuracy at 0.6705998778343201\n",
      "Epoch 30, CIFAR-10 Batch 3:  Loss at 0.7259364128112793 Validation Accuracy at 0.6485998630523682\n",
      "Epoch 30, CIFAR-10 Batch 4:  Loss at 0.725553035736084 Validation Accuracy at 0.6449998617172241\n",
      "Epoch 30, CIFAR-10 Batch 5:  Loss at 0.7139908671379089 Validation Accuracy at 0.6555999517440796\n",
      "Epoch 31, CIFAR-10 Batch 1:  Loss at 0.8364710807800293 Validation Accuracy at 0.6415998935699463\n",
      "Epoch 31, CIFAR-10 Batch 2:  Loss at 0.7281994819641113 Validation Accuracy at 0.6477998495101929\n",
      "Epoch 31, CIFAR-10 Batch 3:  Loss at 0.7284168004989624 Validation Accuracy at 0.6513999104499817\n",
      "Epoch 31, CIFAR-10 Batch 4:  Loss at 0.6873306035995483 Validation Accuracy at 0.6609998941421509\n",
      "Epoch 31, CIFAR-10 Batch 5:  Loss at 0.6957343816757202 Validation Accuracy at 0.6595999002456665\n",
      "Epoch 32, CIFAR-10 Batch 1:  Loss at 0.8291235566139221 Validation Accuracy at 0.6423999071121216\n",
      "Epoch 32, CIFAR-10 Batch 2:  Loss at 0.760614812374115 Validation Accuracy at 0.6479998826980591\n",
      "Epoch 32, CIFAR-10 Batch 3:  Loss at 0.6818323731422424 Validation Accuracy at 0.6639999151229858\n",
      "Epoch 32, CIFAR-10 Batch 4:  Loss at 0.6806021332740784 Validation Accuracy at 0.6677998304367065\n",
      "Epoch 32, CIFAR-10 Batch 5:  Loss at 0.6922138929367065 Validation Accuracy at 0.6653998494148254\n",
      "Epoch 33, CIFAR-10 Batch 1:  Loss at 0.8459817171096802 Validation Accuracy at 0.6351999044418335\n",
      "Epoch 33, CIFAR-10 Batch 2:  Loss at 0.7443031072616577 Validation Accuracy at 0.6559998989105225\n",
      "Epoch 33, CIFAR-10 Batch 3:  Loss at 0.6795550584793091 Validation Accuracy at 0.653799831867218\n",
      "Epoch 33, CIFAR-10 Batch 4:  Loss at 0.7616611123085022 Validation Accuracy at 0.6433998942375183\n",
      "Epoch 33, CIFAR-10 Batch 5:  Loss at 0.6673079133033752 Validation Accuracy at 0.6623998880386353\n",
      "Epoch 34, CIFAR-10 Batch 1:  Loss at 0.8061679601669312 Validation Accuracy at 0.6431999206542969\n",
      "Epoch 34, CIFAR-10 Batch 2:  Loss at 0.701316773891449 Validation Accuracy at 0.6671998500823975\n",
      "Epoch 34, CIFAR-10 Batch 3:  Loss at 0.6877614259719849 Validation Accuracy at 0.6585999131202698\n",
      "Epoch 34, CIFAR-10 Batch 4:  Loss at 0.7405062913894653 Validation Accuracy at 0.6411999464035034\n",
      "Epoch 34, CIFAR-10 Batch 5:  Loss at 0.6792874336242676 Validation Accuracy at 0.66159987449646\n",
      "Epoch 35, CIFAR-10 Batch 1:  Loss at 0.7768793702125549 Validation Accuracy at 0.6709998846054077\n",
      "Epoch 35, CIFAR-10 Batch 2:  Loss at 0.7478323578834534 Validation Accuracy at 0.6599998474121094\n",
      "Epoch 35, CIFAR-10 Batch 3:  Loss at 0.6752636432647705 Validation Accuracy at 0.6599999070167542\n",
      "Epoch 35, CIFAR-10 Batch 4:  Loss at 0.7096047401428223 Validation Accuracy at 0.6557998657226562\n",
      "Epoch 35, CIFAR-10 Batch 5:  Loss at 0.6551463603973389 Validation Accuracy at 0.6571998596191406\n"
     ]
    }
   ],
   "source": [
    "\"\"\"\n",
    "DON'T MODIFY ANYTHING IN THIS CELL\n",
    "\"\"\"\n",
    "save_model_path = './image_classification'\n",
    "\n",
    "print('Training...')\n",
    "with tf.Session() as sess:\n",
    "    # Initializing the variables\n",
    "    sess.run(tf.global_variables_initializer())\n",
    "    \n",
    "    # Training cycle\n",
    "    for epoch in range(epochs):\n",
    "        # Loop over all batches\n",
    "        n_batches = 5\n",
    "        for batch_i in range(1, n_batches + 1):\n",
    "            for batch_features, batch_labels in helper.load_preprocess_training_batch(batch_i, batch_size):\n",
    "                train_neural_network(sess, optimizer, keep_probability, batch_features, batch_labels)\n",
    "            print('Epoch {:>2}, CIFAR-10 Batch {}:  '.format(epoch + 1, batch_i), end='')\n",
    "            print_stats(sess, batch_features, batch_labels, cost, accuracy)\n",
    "            \n",
    "    # Save Model\n",
    "    saver = tf.train.Saver()\n",
    "    save_path = saver.save(sess, save_model_path)"
   ]
  },
  {
   "cell_type": "markdown",
   "metadata": {
    "deletable": true,
    "editable": true
   },
   "source": [
    "# Checkpoint\n",
    "The model has been saved to disk.\n",
    "## Test Model\n",
    "Test your model against the test dataset.  This will be your final accuracy. You should have an accuracy greater than 50%. If you don't, keep tweaking the model architecture and parameters."
   ]
  },
  {
   "cell_type": "code",
   "execution_count": 18,
   "metadata": {
    "collapsed": false,
    "deletable": true,
    "editable": true
   },
   "outputs": [
    {
     "name": "stdout",
     "output_type": "stream",
     "text": [
      "Testing Accuracy: 0.6611787706613541\n",
      "\n"
     ]
    },
    {
     "data": {
      "image/png": "[encoded data removed]",
      "text/plain": [
       "<matplotlib.figure.Figure at 0x7fa266d21f28>"
      ]
     },
     "metadata": {
      "image/png": {
       "height": 319,
       "width": 355
      }
     },
     "output_type": "display_data"
    }
   ],
   "source": [
    "\"\"\"\n",
    "DON'T MODIFY ANYTHING IN THIS CELL\n",
    "\"\"\"\n",
    "%matplotlib inline\n",
    "%config InlineBackend.figure_format = 'retina'\n",
    "\n",
    "import tensorflow as tf\n",
    "import pickle\n",
    "import helper\n",
    "import random\n",
    "\n",
    "# Set batch size if not already set\n",
    "try:\n",
    "    if batch_size:\n",
    "        pass\n",
    "except NameError:\n",
    "    batch_size = 64\n",
    "\n",
    "save_model_path = './image_classification'\n",
    "n_samples = 4\n",
    "top_n_predictions = 3\n",
    "\n",
    "def test_model():\n",
    "    \"\"\"\n",
    "    Test the saved model against the test dataset\n",
    "    \"\"\"\n",
    "\n",
    "    test_features, test_labels = pickle.load(open('preprocess_training.p', mode='rb'))\n",
    "    loaded_graph = tf.Graph()\n",
    "\n",
    "    with tf.Session(graph=loaded_graph) as sess:\n",
    "        # Load model\n",
    "        loader = tf.train.import_meta_graph(save_model_path + '.meta')\n",
    "        loader.restore(sess, save_model_path)\n",
    "\n",
    "        # Get Tensors from loaded model\n",
    "        loaded_x = loaded_graph.get_tensor_by_name('x:0')\n",
    "        loaded_y = loaded_graph.get_tensor_by_name('y:0')\n",
    "        loaded_keep_prob = loaded_graph.get_tensor_by_name('keep_prob:0')\n",
    "        loaded_logits = loaded_graph.get_tensor_by_name('logits:0')\n",
    "        loaded_acc = loaded_graph.get_tensor_by_name('accuracy:0')\n",
    "        \n",
    "        # Get accuracy in batches for memory limitations\n",
    "        test_batch_acc_total = 0\n",
    "        test_batch_count = 0\n",
    "        \n",
    "        for train_feature_batch, train_label_batch in helper.batch_features_labels(test_features, test_labels, batch_size):\n",
    "            test_batch_acc_total += sess.run(\n",
    "                loaded_acc,\n",
    "                feed_dict={loaded_x: train_feature_batch, loaded_y: train_label_batch, loaded_keep_prob: 1.0})\n",
    "            test_batch_count += 1\n",
    "\n",
    "        print('Testing Accuracy: {}\\n'.format(test_batch_acc_total/test_batch_count))\n",
    "\n",
    "        # Print Random Samples\n",
    "        random_test_features, random_test_labels = tuple(zip(*random.sample(list(zip(test_features, test_labels)), n_samples)))\n",
    "        random_test_predictions = sess.run(\n",
    "            tf.nn.top_k(tf.nn.softmax(loaded_logits), top_n_predictions),\n",
    "            feed_dict={loaded_x: random_test_features, loaded_y: random_test_labels, loaded_keep_prob: 1.0})\n",
    "        helper.display_image_predictions(random_test_features, random_test_labels, random_test_predictions)\n",
    "\n",
    "\n",
    "test_model()"
   ]
  },
  {
   "cell_type": "markdown",
   "metadata": {
    "deletable": true,
    "editable": true
   },
   "source": [
    "## Why 50-70% Accuracy?\n",
    "You might be wondering why you can't get an accuracy any higher. First things first, 50% isn't bad for a simple CNN.  Pure guessing would get you 10% accuracy. However, you might notice people are getting scores [well above 70%](http://rodrigob.github.io/are_we_there_yet/build/classification_datasets_results.html#43494641522d3130).  That's because we haven't taught you all there is to know about neural networks. We still need to cover a few more techniques.\n",
    "## Submitting This Project\n",
    "When submitting this project, make sure to run all the cells before saving the notebook.  Save the notebook file as \"dlnd_image_classification.ipynb\" and save it as a HTML file under \"File\" -> \"Download as\".  Include the \"helper.py\" and \"problem_unittests.py\" files in your submission."
   ]
  }
 ],
 "metadata": {
  "kernelspec": {
   "display_name": "Python 3",
   "language": "python",
   "name": "python3"
  },
  "language_info": {
   "codemirror_mode": {
    "name": "ipython",
    "version": 3
   },
   "file_extension": ".py",
   "mimetype": "text/x-python",
   "name": "python",
   "nbconvert_exporter": "python",
   "pygments_lexer": "ipython3",
   "version": "3.5.2"
  },
  "widgets": {
   "state": {},
   "version": "1.1.2"
  }
 },
 "nbformat": 4,
 "nbformat_minor": 0
}
